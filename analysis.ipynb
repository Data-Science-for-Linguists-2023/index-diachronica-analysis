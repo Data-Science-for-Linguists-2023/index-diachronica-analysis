{
 "cells": [
  {
   "attachments": {},
   "cell_type": "markdown",
   "metadata": {},
   "source": [
    "# Analysis\n",
    "\n",
    "*New, continuing* -- part 2; progress report 2\n",
    "\n",
    "My most basic goals of analysis are the following:\n",
    "\n",
    "- What are the most common sound changes?\n",
    "\n",
    "- Given a specific starting sound, what sound changes are most likely? Least likely?\n",
    "\n",
    "- What are some interesting connections that can be made by connecting strings of sound changes?"
   ]
  },
  {
   "cell_type": "code",
   "execution_count": 1,
   "metadata": {},
   "outputs": [],
   "source": [
    "import pandas as pd"
   ]
  },
  {
   "cell_type": "code",
   "execution_count": 8,
   "metadata": {},
   "outputs": [],
   "source": [
    "from data_parsing_script import Branch, Rule\n",
    "\n",
    "branches: list[Branch] = pd.read_pickle('./data/branches.pkl')\n",
    "rules: list[Rule] = pd.read_pickle('./data/rules.pkl')"
   ]
  },
  {
   "attachments": {},
   "cell_type": "markdown",
   "metadata": {},
   "source": [
    "Analysis will be much easier if my data is in dataframe form, so I'll make that happen by using `from_records()` and `vars()` (which pulls each field value out of an object / class.)"
   ]
  },
  {
   "cell_type": "code",
   "execution_count": 9,
   "metadata": {},
   "outputs": [
    {
     "data": {
      "text/html": [
       "<div>\n",
       "<style scoped>\n",
       "    .dataframe tbody tr th:only-of-type {\n",
       "        vertical-align: middle;\n",
       "    }\n",
       "\n",
       "    .dataframe tbody tr th {\n",
       "        vertical-align: top;\n",
       "    }\n",
       "\n",
       "    .dataframe thead th {\n",
       "        text-align: right;\n",
       "    }\n",
       "</style>\n",
       "<table border=\"1\" class=\"dataframe\">\n",
       "  <thead>\n",
       "    <tr style=\"text-align: right;\">\n",
       "      <th></th>\n",
       "      <th>id</th>\n",
       "      <th>branch_id</th>\n",
       "      <th>branch_index</th>\n",
       "      <th>original_text</th>\n",
       "      <th>environment</th>\n",
       "      <th>from_sound</th>\n",
       "      <th>intermediate_steps</th>\n",
       "      <th>to_sound</th>\n",
       "    </tr>\n",
       "  </thead>\n",
       "  <tbody>\n",
       "    <tr>\n",
       "      <th>count</th>\n",
       "      <td>16496</td>\n",
       "      <td>16496</td>\n",
       "      <td>16496</td>\n",
       "      <td>16496</td>\n",
       "      <td>16496</td>\n",
       "      <td>16496</td>\n",
       "      <td>16496</td>\n",
       "      <td>16496</td>\n",
       "    </tr>\n",
       "    <tr>\n",
       "      <th>unique</th>\n",
       "      <td>8954</td>\n",
       "      <td>702</td>\n",
       "      <td>702</td>\n",
       "      <td>7042</td>\n",
       "      <td>2724</td>\n",
       "      <td>1965</td>\n",
       "      <td>141</td>\n",
       "      <td>1487</td>\n",
       "    </tr>\n",
       "    <tr>\n",
       "      <th>top</th>\n",
       "      <td>Shetland-Norn-u,oː-a-aː-ɒ,œ,y-e-iː</td>\n",
       "      <td>Old-Norse</td>\n",
       "      <td>17.7.3.1</td>\n",
       "      <td>{s,z}(ʔ) {ʃ,ʒ}(ʔ) {ɬ,ɮ}(ʔ) → s ʃ ɬ / _#</td>\n",
       "      <td></td>\n",
       "      <td>e</td>\n",
       "      <td>[]</td>\n",
       "      <td>∅</td>\n",
       "    </tr>\n",
       "    <tr>\n",
       "      <th>freq</th>\n",
       "      <td>40</td>\n",
       "      <td>371</td>\n",
       "      <td>371</td>\n",
       "      <td>48</td>\n",
       "      <td>7577</td>\n",
       "      <td>389</td>\n",
       "      <td>16205</td>\n",
       "      <td>1737</td>\n",
       "    </tr>\n",
       "  </tbody>\n",
       "</table>\n",
       "</div>"
      ],
      "text/plain": [
       "                                        id  branch_id branch_index  \\\n",
       "count                                16496      16496        16496   \n",
       "unique                                8954        702          702   \n",
       "top     Shetland-Norn-u,oː-a-aː-ɒ,œ,y-e-iː  Old-Norse     17.7.3.1   \n",
       "freq                                    40        371          371   \n",
       "\n",
       "                                  original_text environment from_sound  \\\n",
       "count                                     16496       16496      16496   \n",
       "unique                                     7042        2724       1965   \n",
       "top     {s,z}(ʔ) {ʃ,ʒ}(ʔ) {ɬ,ɮ}(ʔ) → s ʃ ɬ / _#                      e   \n",
       "freq                                         48        7577        389   \n",
       "\n",
       "       intermediate_steps to_sound  \n",
       "count               16496    16496  \n",
       "unique                141     1487  \n",
       "top                    []        ∅  \n",
       "freq                16205     1737  "
      ]
     },
     "execution_count": 9,
     "metadata": {},
     "output_type": "execute_result"
    }
   ],
   "source": [
    "rules_df = pd.DataFrame.from_records([vars(rule) for rule in rules])\n",
    "rules_df.describe()"
   ]
  },
  {
   "attachments": {},
   "cell_type": "markdown",
   "metadata": {},
   "source": [
    "## Most common sound changes\n",
    "\n",
    "Before finding what sound changes are \"most common\", I need to decide what makes two sound changes \"the same.\" If the starting sound and ending sound are the same, but there are differing in-between sounds or differing environments, should they be considered to be the same? I think it'd be interesting to see if the results differ depending on which approach you take, so I'll be looking at both.\n",
    "\n",
    "However, the `describe()` call above made me remember a potential confounding issue: there are a *lot* of sound changes that are essentially copied between different daughter languages in a single branch. If one sound change is shared between 15 daughter languages, should that really be considered \"more common\" than one that exists in 15 separate branches?\n",
    "\n",
    "Because of this, I went back and modified my data parsing script to add the branch index. This will let me discount copies of the same sound change shared between sister branches on the same level."
   ]
  },
  {
   "attachments": {},
   "cell_type": "markdown",
   "metadata": {},
   "source": [
    "As a starting point, let's see what the most common `from_sound`s and `to_sound`s are."
   ]
  },
  {
   "cell_type": "code",
   "execution_count": 11,
   "metadata": {},
   "outputs": [
    {
     "data": {
      "text/plain": [
       "e    389\n",
       "k    384\n",
       "t    362\n",
       "a    339\n",
       "s    326\n",
       "p    310\n",
       "u    288\n",
       "i    252\n",
       "j    250\n",
       "o    244\n",
       "Name: from_sound, dtype: int64"
      ]
     },
     "execution_count": 11,
     "metadata": {},
     "output_type": "execute_result"
    }
   ],
   "source": [
    "rules_df['from_sound'].value_counts()[:10]"
   ]
  },
  {
   "attachments": {},
   "cell_type": "markdown",
   "metadata": {},
   "source": [
    "It makes sense that these are single IPA symbols, since they're the least complex possible sounds. I expect the 'to' sounds to be largely similar, with the addition of the null symbol."
   ]
  },
  {
   "cell_type": "code",
   "execution_count": 12,
   "metadata": {},
   "outputs": [
    {
     "data": {
      "text/plain": [
       "∅    1737\n",
       "s     504\n",
       "i     441\n",
       "e     388\n",
       "o     368\n",
       "h     364\n",
       "k     350\n",
       "a     333\n",
       "t     318\n",
       "u     304\n",
       "Name: to_sound, dtype: int64"
      ]
     },
     "execution_count": 12,
     "metadata": {},
     "output_type": "execute_result"
    }
   ],
   "source": [
    "rules_df['to_sound'].value_counts()[:10]"
   ]
  },
  {
   "attachments": {},
   "cell_type": "markdown",
   "metadata": {},
   "source": [
    "I was correct! Although which sounds are present, and in which order, does change a bit. /s/ is, by far, the most common result of a sound change (other than the sound being removed.)\n",
    "\n",
    "Now, let's just do a very basic version of the \"most common sound change\" idea -- what is the most common pairing of `from_sound` and `to_sound`?"
   ]
  },
  {
   "cell_type": "code",
   "execution_count": 13,
   "metadata": {},
   "outputs": [
    {
     "data": {
      "text/plain": [
       "from_sound  to_sound\n",
       "h           ∅           164\n",
       "e           i           100\n",
       "w           ∅            93\n",
       "j           ∅            92\n",
       "k           ∅            87\n",
       "ʔ           ∅            87\n",
       "V           ∅            74\n",
       "o           u            73\n",
       "n           ∅            72\n",
       "ts          s            71\n",
       "dtype: int64"
      ]
     },
     "execution_count": 13,
     "metadata": {},
     "output_type": "execute_result"
    }
   ],
   "source": [
    "rules_df[['from_sound', 'to_sound']].value_counts()[:10]"
   ]
  },
  {
   "attachments": {},
   "cell_type": "markdown",
   "metadata": {},
   "source": [
    "/h/ being removed is most common, which makes a lot of sense to me -- this even happened in British English (e.g. \"history\".) /ts/ → /s/ is probably the most interesting inclusion on the list, but it's also not a very surprising change. Let's see what the most common are when excluding removed sounds:"
   ]
  },
  {
   "cell_type": "code",
   "execution_count": 14,
   "metadata": {},
   "outputs": [
    {
     "data": {
      "text/plain": [
       "from_sound  to_sound\n",
       "e           i           100\n",
       "o           u            73\n",
       "ts          s            71\n",
       "u           o            67\n",
       "i           e            61\n",
       "e           a            60\n",
       "k           ɡ            60\n",
       "a           e            58\n",
       "s           ʃ            57\n",
       "            h            56\n",
       "dtype: int64"
      ]
     },
     "execution_count": 14,
     "metadata": {},
     "output_type": "execute_result"
    }
   ],
   "source": [
    "rules_df[['from_sound', 'to_sound']][rules_df['to_sound'] != '∅'].value_counts()[:10]"
   ]
  },
  {
   "attachments": {},
   "cell_type": "markdown",
   "metadata": {},
   "source": [
    "Nothing too surprising here. The empty row in the 'from' column is actually s → h; not sure why the notebook renders it that way, but it does. Now what if we include environment -- does that change things much?"
   ]
  },
  {
   "cell_type": "code",
   "execution_count": 21,
   "metadata": {},
   "outputs": [
    {
     "data": {
      "text/plain": [
       "from_sound  to_sound  environment\n",
       "ts          s                        55\n",
       "h           ∅                        44\n",
       "ɡ           k                        34\n",
       "TŠ          TS                       28\n",
       "ʃ           s                        26\n",
       "b           p                        25\n",
       "iː          i                        25\n",
       "tʃ          ts                       25\n",
       "ʔ           ∅                        24\n",
       "q           ∅                        24\n",
       "dtype: int64"
      ]
     },
     "execution_count": 21,
     "metadata": {},
     "output_type": "execute_result"
    }
   ],
   "source": [
    "rules_df[['from_sound', 'to_sound', 'environment']].value_counts()[:10]"
   ]
  },
  {
   "attachments": {},
   "cell_type": "markdown",
   "metadata": {},
   "source": [
    "Things do change a bit. The weirdest thing here is definitely TŠ → TS, but looking at the data, this is due to the issue I mentioned earlier -- sounds copied between sister branches. The Athabaskan sound changes mostly involve *series* of consonants; \"TŠ\" represents palatals, while \"TS\" represents dental affricates & fricatives.\n",
    "\n",
    "Let's see the same stats, but excluding sister branches. First, I'll add a column for \"parent branch index\", so we can find the number of unique parent branches that have a sound change, rather than a raw count of the sound change."
   ]
  },
  {
   "cell_type": "code",
   "execution_count": 22,
   "metadata": {},
   "outputs": [
    {
     "data": {
      "text/plain": [
       "'6.5.4.3'"
      ]
     },
     "execution_count": 22,
     "metadata": {},
     "output_type": "execute_result"
    }
   ],
   "source": [
    "def get_parent_branch_index(branch_index: str):\n",
    "  return '.'.join(branch_index.split('.')[:-1])\n",
    "\n",
    "get_parent_branch_index('6.5.4.3.2')"
   ]
  },
  {
   "cell_type": "code",
   "execution_count": 29,
   "metadata": {},
   "outputs": [
    {
     "data": {
      "text/plain": [
       "branch_index  parent_index\n",
       "10.1          10               4\n",
       "10.1.1        10.1            21\n",
       "10.1.1.1      10.1.1           8\n",
       "10.1.1.2      10.1.1          12\n",
       "10.1.1.3      10.1.1          15\n",
       "10.1.1.5      10.1.1           8\n",
       "10.1.2        10.1            10\n",
       "10.1.2.1      10.1.2          11\n",
       "10.1.2.10     10.1.2          15\n",
       "10.1.2.2      10.1.2          13\n",
       "dtype: int64"
      ]
     },
     "execution_count": 29,
     "metadata": {},
     "output_type": "execute_result"
    }
   ],
   "source": [
    "import numpy as np\n",
    "get_parent_branch_index_vec = np.vectorize(get_parent_branch_index)\n",
    "rules_df['parent_index'] = get_parent_branch_index_vec(rules_df['branch_index'])\n",
    "rules_df.groupby(['branch_index', 'parent_index']).size().head(10) # verify it worked"
   ]
  },
  {
   "attachments": {},
   "cell_type": "markdown",
   "metadata": {},
   "source": [
    "Looks good! Let's get those stats again now."
   ]
  },
  {
   "cell_type": "code",
   "execution_count": 32,
   "metadata": {},
   "outputs": [
    {
     "data": {
      "text/plain": [
       "from_sound  to_sound\n",
       "h           ∅           46\n",
       "w           ∅           44\n",
       "ʔ           ∅           40\n",
       "k           ∅           37\n",
       "j           ∅           34\n",
       "e           i           34\n",
       "a           e           32\n",
       "i           e           30\n",
       "u           o           29\n",
       "o           u           29\n",
       "dtype: int64"
      ]
     },
     "execution_count": 32,
     "metadata": {},
     "output_type": "execute_result"
    }
   ],
   "source": [
    "rules_df[['from_sound', 'to_sound', 'parent_index']].drop_duplicates()[['from_sound', 'to_sound']].value_counts()[:10]"
   ]
  },
  {
   "attachments": {},
   "cell_type": "markdown",
   "metadata": {},
   "source": [
    "These numbers are much lower than before, but the results are mostly similar, with a few sounds falling out of the top 10. Let's do the same with environment taken into account:"
   ]
  },
  {
   "cell_type": "code",
   "execution_count": 33,
   "metadata": {},
   "outputs": [
    {
     "data": {
      "text/plain": [
       "from_sound  to_sound  environment\n",
       "ts          s                        19\n",
       "tʃ          ts                       15\n",
       "ʔ           ∅                        15\n",
       "h           ∅                        14\n",
       "w           v                        14\n",
       "ʃ           s                        14\n",
       "ɡ           k                        12\n",
       "dz          z                        12\n",
       "b           p                        11\n",
       "o           u                        11\n",
       "dtype: int64"
      ]
     },
     "execution_count": 33,
     "metadata": {},
     "output_type": "execute_result"
    }
   ],
   "source": [
    "rules_df[['from_sound', 'to_sound', 'environment', 'parent_index']].drop_duplicates()[['from_sound', 'to_sound', 'environment']].value_counts()[:10]"
   ]
  },
  {
   "attachments": {},
   "cell_type": "markdown",
   "metadata": {},
   "source": [
    "This definitely *feels* more representative now, and the commonness of all of these sound changes make sense to me.\n",
    "\n",
    "Finally, let's take intermediate steps into account, with and without environment. (I have to do `.astype(str)` here because `drop_duplicates()` uses hashing, and list values (which is what `intermediate_steps` is) can't be hashed.)"
   ]
  },
  {
   "cell_type": "code",
   "execution_count": 36,
   "metadata": {},
   "outputs": [
    {
     "data": {
      "text/plain": [
       "from_sound  intermediate_steps  to_sound\n",
       "h           []                  ∅           46\n",
       "w           []                  ∅           43\n",
       "ʔ           []                  ∅           40\n",
       "k           []                  ∅           37\n",
       "j           []                  ∅           34\n",
       "e           []                  i           34\n",
       "a           []                  e           32\n",
       "i           []                  e           30\n",
       "o           []                  u           29\n",
       "u           []                  o           28\n",
       "dtype: int64"
      ]
     },
     "execution_count": 36,
     "metadata": {},
     "output_type": "execute_result"
    }
   ],
   "source": [
    "rules_df[['from_sound', 'intermediate_steps', 'to_sound', 'parent_index']]\\\n",
    "  .astype(str).drop_duplicates()[['from_sound', 'intermediate_steps', 'to_sound']].value_counts()[:10]"
   ]
  },
  {
   "attachments": {},
   "cell_type": "markdown",
   "metadata": {},
   "source": [
    "No intermediate steps is, predictably, most common. What if we specify only rules *with* intermediate steps? Are there *any* that occur more than once?"
   ]
  },
  {
   "cell_type": "code",
   "execution_count": 43,
   "metadata": {},
   "outputs": [
    {
     "data": {
      "text/plain": [
       "from_sound  intermediate_steps  to_sound\n",
       "ai          ['ɛi']              əi          2\n",
       "ɛː          ['ɛi']              əi?         2\n",
       "dtype: int64"
      ]
     },
     "execution_count": 43,
     "metadata": {},
     "output_type": "execute_result"
    }
   ],
   "source": [
    "counts = rules_df[rules_df['intermediate_steps'].apply(lambda x: len(x) > 0)][['from_sound', 'intermediate_steps', 'to_sound', 'parent_index']]\\\n",
    "  .astype(str).drop_duplicates()[['from_sound', 'intermediate_steps', 'to_sound']].value_counts()\n",
    "\n",
    "counts[counts > 1]"
   ]
  },
  {
   "attachments": {},
   "cell_type": "markdown",
   "metadata": {},
   "source": [
    "It seems like there are two that occur more than once, but on further inspection, maybe not..."
   ]
  },
  {
   "cell_type": "code",
   "execution_count": 46,
   "metadata": {},
   "outputs": [
    {
     "data": {
      "text/html": [
       "<div>\n",
       "<style scoped>\n",
       "    .dataframe tbody tr th:only-of-type {\n",
       "        vertical-align: middle;\n",
       "    }\n",
       "\n",
       "    .dataframe tbody tr th {\n",
       "        vertical-align: top;\n",
       "    }\n",
       "\n",
       "    .dataframe thead th {\n",
       "        text-align: right;\n",
       "    }\n",
       "</style>\n",
       "<table border=\"1\" class=\"dataframe\">\n",
       "  <thead>\n",
       "    <tr style=\"text-align: right;\">\n",
       "      <th></th>\n",
       "      <th>id</th>\n",
       "      <th>branch_id</th>\n",
       "      <th>branch_index</th>\n",
       "      <th>original_text</th>\n",
       "      <th>environment</th>\n",
       "      <th>from_sound</th>\n",
       "      <th>intermediate_steps</th>\n",
       "      <th>to_sound</th>\n",
       "      <th>parent_index</th>\n",
       "    </tr>\n",
       "  </thead>\n",
       "  <tbody>\n",
       "    <tr>\n",
       "      <th>6634</th>\n",
       "      <td>Scots-—-ai</td>\n",
       "      <td>Scots</td>\n",
       "      <td>17.7.2.1.9</td>\n",
       "      <td>— ai → ɛi → əi / when stem-final</td>\n",
       "      <td>when stem-final</td>\n",
       "      <td>ai</td>\n",
       "      <td>[ɛi]</td>\n",
       "      <td>əi</td>\n",
       "      <td>17.7.2.1</td>\n",
       "    </tr>\n",
       "    <tr>\n",
       "      <th>16259</th>\n",
       "      <td>Scots-Vowel-Shifts-ai</td>\n",
       "      <td>Scots-Vowel-Shifts</td>\n",
       "      <td>46.5</td>\n",
       "      <td>ai → ɛi → əi / when stem-final</td>\n",
       "      <td>when stem-final</td>\n",
       "      <td>ai</td>\n",
       "      <td>[ɛi]</td>\n",
       "      <td>əi</td>\n",
       "      <td>46</td>\n",
       "    </tr>\n",
       "  </tbody>\n",
       "</table>\n",
       "</div>"
      ],
      "text/plain": [
       "                          id           branch_id branch_index  \\\n",
       "6634              Scots-—-ai               Scots   17.7.2.1.9   \n",
       "16259  Scots-Vowel-Shifts-ai  Scots-Vowel-Shifts         46.5   \n",
       "\n",
       "                          original_text      environment from_sound  \\\n",
       "6634   — ai → ɛi → əi / when stem-final  when stem-final         ai   \n",
       "16259    ai → ɛi → əi / when stem-final  when stem-final         ai   \n",
       "\n",
       "      intermediate_steps to_sound parent_index  \n",
       "6634                [ɛi]       əi     17.7.2.1  \n",
       "16259               [ɛi]       əi           46  "
      ]
     },
     "execution_count": 46,
     "metadata": {},
     "output_type": "execute_result"
    }
   ],
   "source": [
    "rules_df[(rules_df['from_sound'] == 'ai') & (rules_df['to_sound'] == 'əi')]"
   ]
  },
  {
   "cell_type": "code",
   "execution_count": 44,
   "metadata": {},
   "outputs": [
    {
     "data": {
      "text/html": [
       "<div>\n",
       "<style scoped>\n",
       "    .dataframe tbody tr th:only-of-type {\n",
       "        vertical-align: middle;\n",
       "    }\n",
       "\n",
       "    .dataframe tbody tr th {\n",
       "        vertical-align: top;\n",
       "    }\n",
       "\n",
       "    .dataframe thead th {\n",
       "        text-align: right;\n",
       "    }\n",
       "</style>\n",
       "<table border=\"1\" class=\"dataframe\">\n",
       "  <thead>\n",
       "    <tr style=\"text-align: right;\">\n",
       "      <th></th>\n",
       "      <th>id</th>\n",
       "      <th>branch_id</th>\n",
       "      <th>branch_index</th>\n",
       "      <th>original_text</th>\n",
       "      <th>environment</th>\n",
       "      <th>from_sound</th>\n",
       "      <th>intermediate_steps</th>\n",
       "      <th>to_sound</th>\n",
       "      <th>parent_index</th>\n",
       "    </tr>\n",
       "  </thead>\n",
       "  <tbody>\n",
       "    <tr>\n",
       "      <th>6658</th>\n",
       "      <td>Scots-—-ɛː</td>\n",
       "      <td>Scots</td>\n",
       "      <td>17.7.2.1.9</td>\n",
       "      <td>— ɛː → ɛi (→ əi?) / in some northern varieties</td>\n",
       "      <td>in some northern varieties</td>\n",
       "      <td>ɛː</td>\n",
       "      <td>[ɛi]</td>\n",
       "      <td>əi?</td>\n",
       "      <td>17.7.2.1</td>\n",
       "    </tr>\n",
       "    <tr>\n",
       "      <th>16283</th>\n",
       "      <td>Scots-Vowel-Shifts-ɛː</td>\n",
       "      <td>Scots-Vowel-Shifts</td>\n",
       "      <td>46.5</td>\n",
       "      <td>ɛː → ɛi (→ əi?) / in some northern varieties</td>\n",
       "      <td>in some northern varieties</td>\n",
       "      <td>ɛː</td>\n",
       "      <td>[ɛi]</td>\n",
       "      <td>əi?</td>\n",
       "      <td>46</td>\n",
       "    </tr>\n",
       "  </tbody>\n",
       "</table>\n",
       "</div>"
      ],
      "text/plain": [
       "                          id           branch_id branch_index  \\\n",
       "6658              Scots-—-ɛː               Scots   17.7.2.1.9   \n",
       "16283  Scots-Vowel-Shifts-ɛː  Scots-Vowel-Shifts         46.5   \n",
       "\n",
       "                                        original_text  \\\n",
       "6658   — ɛː → ɛi (→ əi?) / in some northern varieties   \n",
       "16283    ɛː → ɛi (→ əi?) / in some northern varieties   \n",
       "\n",
       "                      environment from_sound intermediate_steps to_sound  \\\n",
       "6658   in some northern varieties         ɛː               [ɛi]      əi?   \n",
       "16283  in some northern varieties         ɛː               [ɛi]      əi?   \n",
       "\n",
       "      parent_index  \n",
       "6658      17.7.2.1  \n",
       "16283           46  "
      ]
     },
     "execution_count": 44,
     "metadata": {},
     "output_type": "execute_result"
    }
   ],
   "source": [
    "rules_df[rules_df['to_sound'] == 'əi?']"
   ]
  },
  {
   "attachments": {},
   "cell_type": "markdown",
   "metadata": {},
   "source": [
    "...both of these are just duplicated between the Scots section and the Vowel Shifts section. Oh well."
   ]
  }
 ],
 "metadata": {
  "kernelspec": {
   "display_name": "base",
   "language": "python",
   "name": "python3"
  },
  "language_info": {
   "codemirror_mode": {
    "name": "ipython",
    "version": 3
   },
   "file_extension": ".py",
   "mimetype": "text/x-python",
   "name": "python",
   "nbconvert_exporter": "python",
   "pygments_lexer": "ipython3",
   "version": "3.10.9"
  },
  "orig_nbformat": 4
 },
 "nbformat": 4,
 "nbformat_minor": 2
}
