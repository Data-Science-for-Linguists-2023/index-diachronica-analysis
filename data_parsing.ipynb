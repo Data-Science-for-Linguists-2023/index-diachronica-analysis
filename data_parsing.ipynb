{
 "cells": [
  {
   "attachments": {},
   "cell_type": "markdown",
   "metadata": {},
   "source": [
    "# Data Parsing\n",
    "\n",
    "My goal with the data parsing is to fit each \"branch\" and sound change rule in the data into a predefined data format.\n",
    "\n",
    "How should I go about doing this? There are a few options. I want my end result to allow me to have a kind of connected graph between individual sounds, and I want to be able to see what rules and language branches the connections come from.\n",
    "\n",
    "Because of this, I think I want to have two different \"collections\" of objects:\n",
    "\n",
    "1. Rules\n",
    "2. Branches\n",
    "\n",
    "I'm going to opt to output these as JSON files, since I much prefer that format over XML for readability. I may also pickle them so that I can import them more easily when doing visualizations.\n",
    "\n",
    "Each object type will be its own class, so I can have a set of predefined fields on each.\n",
    "\n",
    "## Catching issues\n",
    "\n",
    "My first version of the data parsing script (2/21/23) worked somewhat well, but there were some that were parsed incorrectly. Here's a rundown of what was still not working:\n",
    "\n",
    "1. Sound changes with multiple correlated rules -- e.g. `z zː → j dʒː` -- were being parsed as single rules.\n",
    "2. Sounds grouped together -- e.g. in `{s3,ʒ} → ʃ / #_` -- were being parsed as one sound.\n",
    "3. Sounds like `S[+ voiced]` were being parsed as two separate sounds -- `S[+` and `voiced]` -- because I was naively splitting at all spaces.\n",
    "4. Some extra text was not being filtered out correctly, such as the quotation in `ɨ u → e {i,e} “(all */u/ affected, but conditions for when it became /i/ or /e/ are not known)”`.\n",
    "5. Rules like `rdʒ → {rdʒ,rdz(→ rz)}` that had optional steps were not parsed correctly at all.\n",
    "6. Optional modifiers to sounds, like `ts(ʼ)`, were parsed as one rule rather than two (`ts`, `tsʼ`.)\n",
    "\n",
    "There were almost certainly other issues, but these were the ones I noticed. Some of these were going to be harder to fix than others.\n",
    "\n",
    "As I fix some of these cases (+ others as I find them), I'll include them below.\n",
    "\n",
    "There were some cases where making the parser handle a certain situation was not worth it, as the number of rules that would be handled by that was negligible, so I manually modified those rules so they would be parsed correctly. I also did this in cases where there was plain text like \"occasionally\". I made a new file `sid-tidy-with-edits.html` so the unedited version would still be accessible.\n",
    "\n",
    "There are also some rules where multiple end results are listed due to the source's author \"hedging\", so I edited those manually to consider both end results as their own rules.\n",
    "\n",
    "I also decided to make it so that anything within backticks is ignored when parsing but included in the 'original text' field of the rule. This lets me manually handle rules like `r → *L (some sort of lateral?) / occasionally` with extra stuff that I want to ignore, without losing that information.\n",
    "\n",
    "Another oddity is this fun one: `s → c& _ (the paper doesn’t explain what this represents)`. How am I supposed to parse this??? Who knows. I'm going to just manually add an environment separator and assume it's supposed to mean \"in any environment.\"\n",
    "\n",
    "I also realized there were some cases where there were simply typos in the data, such as `ŋ → {∅,n} #_ else` (which is missing the environment separator before `#_`.) I manually fixed those.\n",
    "\n",
    "Fortljus Ryggrad's *[Corrections, Clarifications, and Uncertainties of Index Diachronica](https://drive.google.com/file/d/1veWbeZhXUZjUtGZZezyvCvF6BA103wS8/view?usp=sharing)* helped me resolve some of the oddities I ran into when parsing as well."
   ]
  },
  {
   "cell_type": "code",
   "execution_count": 25,
   "metadata": {},
   "outputs": [
    {
     "data": {
      "text/plain": [
       "[('z', [], 'j'), ('zː', [], 'dʒː')]"
      ]
     },
     "execution_count": 25,
     "metadata": {},
     "output_type": "execute_result"
    }
   ],
   "source": [
    "import importlib\n",
    "import data_parsing_script as dps\n",
    "importlib.reload(dps)\n",
    "\n",
    "dps.parse_rule_steps('z zː → j dʒː')"
   ]
  },
  {
   "cell_type": "code",
   "execution_count": 24,
   "metadata": {},
   "outputs": [
    {
     "data": {
      "text/plain": [
       "[('S', [], '[+ voice]')]"
      ]
     },
     "execution_count": 24,
     "metadata": {},
     "output_type": "execute_result"
    }
   ],
   "source": [
    "importlib.reload(dps)\n",
    "\n",
    "dps.parse_rule_steps('S → [+ voice]')"
   ]
  },
  {
   "cell_type": "code",
   "execution_count": 23,
   "metadata": {},
   "outputs": [
    {
     "data": {
      "text/plain": [
       "[('j', [], 'i'), ('w', [], 'u')]"
      ]
     },
     "execution_count": 23,
     "metadata": {},
     "output_type": "execute_result"
    }
   ],
   "source": [
    "importlib.reload(dps)\n",
    "\n",
    "dps.parse_rule_steps('— j w → i u')"
   ]
  },
  {
   "cell_type": "code",
   "execution_count": 22,
   "metadata": {},
   "outputs": [
    {
     "data": {
      "text/plain": [
       "[('V[- high - long]', [], '∅')]"
      ]
     },
     "execution_count": 22,
     "metadata": {},
     "output_type": "execute_result"
    }
   ],
   "source": [
    "importlib.reload(dps)\n",
    "\n",
    "dps.parse_rule_steps('V[- high - long] → ∅')"
   ]
  },
  {
   "cell_type": "code",
   "execution_count": 86,
   "metadata": {},
   "outputs": [
    {
     "data": {
      "text/plain": [
       "[('ew', ['øj'], 'yj'), ('ew', [], 'yj')]"
      ]
     },
     "execution_count": 86,
     "metadata": {},
     "output_type": "execute_result"
    }
   ],
   "source": [
    "importlib.reload(dps)\n",
    "\n",
    "[(rule.from_sound, rule.intermediate_steps, rule.to_sound) for rule in dps.parse_sound_change('ew (→ øj) (→ øj) → yj', '', '')]"
   ]
  },
  {
   "cell_type": "code",
   "execution_count": 96,
   "metadata": {},
   "outputs": [
    {
     "name": "stdout",
     "output_type": "stream",
     "text": [
      "bracketed sound {s3,ʒ}\n"
     ]
    },
    {
     "data": {
      "text/plain": [
       "[('s3', [], 'ʃ'), ('ʒ', [], 'ʃ')]"
      ]
     },
     "execution_count": 96,
     "metadata": {},
     "output_type": "execute_result"
    }
   ],
   "source": [
    "importlib.reload(dps)\n",
    "\n",
    "dps.parse_rule_steps('{s3,ʒ} → ʃ')"
   ]
  },
  {
   "cell_type": "code",
   "execution_count": 101,
   "metadata": {},
   "outputs": [
    {
     "data": {
      "text/plain": [
       "[('tʃʷʼ', [], 'fʼ'),\n",
       " ('tɕʼ', [], 'tsʼ'),\n",
       " ('dʒʷ', [], 'v'),\n",
       " ('dʑ', [], 'dz'),\n",
       " ('tʃʷ', [], 'f'),\n",
       " ('tɕ', [], 'ts')]"
      ]
     },
     "execution_count": 101,
     "metadata": {},
     "output_type": "execute_result"
    }
   ],
   "source": [
    "importlib.reload(dps)\n",
    "\n",
    "[(rule.from_sound, rule.intermediate_steps, rule.to_sound) for rule in dps.parse_sound_change('tʃʷ(ʼ) tɕ(ʼ) dʒʷ dʑ → f(ʼ) ts(ʼ) v dz', '', '')]"
   ]
  },
  {
   "cell_type": "code",
   "execution_count": 103,
   "metadata": {},
   "outputs": [
    {
     "data": {
      "text/plain": [
       "[('rdʒ', ['{rdʒ,rdz'], 'rz}'), ('rdʒ', [], '{rdʒ,rdz}')]"
      ]
     },
     "execution_count": 103,
     "metadata": {},
     "output_type": "execute_result"
    }
   ],
   "source": [
    "importlib.reload(dps)\n",
    "\n",
    "[(rule.from_sound, rule.intermediate_steps, rule.to_sound) for rule in dps.parse_sound_change('rdʒ → {rdʒ,rdz(→ rz)}', '', '')]"
   ]
  },
  {
   "cell_type": "code",
   "execution_count": 105,
   "metadata": {},
   "outputs": [
    {
     "data": {
      "text/plain": [
       "[('d', [], 't'), ('ɡ', [], 'k')]"
      ]
     },
     "execution_count": 105,
     "metadata": {},
     "output_type": "execute_result"
    }
   ],
   "source": [
    "importlib.reload(dps)\n",
    "\n",
    "[(rule.from_sound, rule.intermediate_steps, rule.to_sound) for rule in\n",
    "  dps.parse_sound_change('d ɡ → t k (may have been part of a more sweeping merger; Firespeaker calls it “lenis-fortis”)', '', '')]"
   ]
  },
  {
   "cell_type": "code",
   "execution_count": 108,
   "metadata": {},
   "outputs": [
    {
     "data": {
      "text/plain": [
       "[('r', [], '*L', '')]"
      ]
     },
     "execution_count": 108,
     "metadata": {},
     "output_type": "execute_result"
    }
   ],
   "source": [
    "importlib.reload(dps)\n",
    "\n",
    "[(rule.from_sound, rule.intermediate_steps, rule.to_sound) for rule in\n",
    "  dps.parse_sound_change('r → *L `(some sort of lateral?)` / occasionally', '', '')]"
   ]
  },
  {
   "cell_type": "code",
   "execution_count": 118,
   "metadata": {},
   "outputs": [
    {
     "data": {
      "text/plain": [
       "[('æi', [], 'eː'),\n",
       " ('ei', [], 'eː'),\n",
       " ('ai', [], 'aː'),\n",
       " ('au', [], 'oː'),\n",
       " ('wɪ', [], 'weː'),\n",
       " ('wi', [], 'weː'),\n",
       " ('wy', [], 'woː'),\n",
       " ('wV', [], 'wVː'),\n",
       " ('iu', [], '{eː,oː}'),\n",
       " ('Vː', [], 'V')]"
      ]
     },
     "execution_count": 118,
     "metadata": {},
     "output_type": "execute_result"
    }
   ],
   "source": [
    "importlib.reload(dps)\n",
    "\n",
    "dps.parse_rule_steps('{æ,e}i ai au w{ɪ,i} wy wV iu Vː → eː aː oː weː woː wVː eː oː V')"
   ]
  },
  {
   "attachments": {},
   "cell_type": "markdown",
   "metadata": {},
   "source": [
    "...AND IT ALL PARSES! Only took like 4 hours of running it over and over and fixing any errors that were hit!!\n",
    "\n",
    "However, as of now, there is still some data parsing stuff still to take care of:\n",
    "\n",
    "1. Rules with multiple optional things that are the same (e.g. `(C)(C)`) are only parsed as being all-or-nothing (one `(C)` is not possible). After fixing this, rules where `(:)` on both sides of the rule mean \"long becomes long, short becomes short\" still need to be handled correctly (e.g. `N(ː) k k(ː) N(ː)ɡ ɡ(ː) ɣ → ɲc(ː) c(ː) ɲɟ(ː) ɟ(ː) ʝ / _{i,j} `)\n",
    "2. Go through everything and look for any more obvious errors. (Maybe sort individual sounds by length to find outliers?)\n",
    "\n",
    "So here's what the parser is doing, by the way:"
   ]
  }
 ],
 "metadata": {
  "kernelspec": {
   "display_name": "base",
   "language": "python",
   "name": "python3"
  },
  "language_info": {
   "codemirror_mode": {
    "name": "ipython",
    "version": 3
   },
   "file_extension": ".py",
   "mimetype": "text/x-python",
   "name": "python",
   "nbconvert_exporter": "python",
   "pygments_lexer": "ipython3",
   "version": "3.9.7"
  },
  "orig_nbformat": 4,
  "vscode": {
   "interpreter": {
    "hash": "1b2493083348fde2069711704c4dcbdb8e96ec3caa292c118280393371947b67"
   }
  }
 },
 "nbformat": 4,
 "nbformat_minor": 2
}
