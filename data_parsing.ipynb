{
 "cells": [
  {
   "attachments": {},
   "cell_type": "markdown",
   "metadata": {},
   "source": [
    "# Data Parsing\n",
    "\n",
    "My goal with the data parsing is to fit each \"branch\" and sound change rule in the data into a predefined data format.\n",
    "\n",
    "How should I go about doing this? There are a few options. I want my end result to allow me to have a kind of connected graph between individual sounds, and I want to be able to see what rules and language branches the connections come from.\n",
    "\n",
    "Because of this, I think I want to have two different \"collections\" of objects:\n",
    "\n",
    "1. Rules\n",
    "2. Branches\n",
    "\n",
    "I'm going to opt to output these as JSON files, since I much prefer that format over XML for readability. I may also pickle them so that I can import them more easily when doing visualizations.\n",
    "\n",
    "Each object type will be its own class, so I can have a set of predefined fields on each."
   ]
  }
 ],
 "metadata": {
  "language_info": {
   "name": "python"
  },
  "orig_nbformat": 4
 },
 "nbformat": 4,
 "nbformat_minor": 2
}
